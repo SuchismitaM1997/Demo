{
  "nbformat": 4,
  "nbformat_minor": 0,
  "metadata": {
    "colab": {
      "provenance": []
    },
    "kernelspec": {
      "name": "python3",
      "display_name": "Python 3"
    },
    "language_info": {
      "name": "python"
    }
  },
  "cells": [
    {
      "cell_type": "markdown",
      "source": [
        "## **Variables**\n",
        "Any Python interpreter can be used as a calculator:"
      ],
      "metadata": {
        "id": "0nej63AzaQvf"
      }
    },
    {
      "cell_type": "code",
      "source": [
        "3 + 5 * 4"
      ],
      "metadata": {
        "colab": {
          "base_uri": "https://localhost:8080/"
        },
        "id": "xIbq3Pr2abND",
        "outputId": "713630e6-6243-454f-9302-7352e780797f"
      },
      "execution_count": null,
      "outputs": [
        {
          "output_type": "execute_result",
          "data": {
            "text/plain": [
              "23"
            ]
          },
          "metadata": {},
          "execution_count": 1
        }
      ]
    },
    {
      "cell_type": "markdown",
      "source": [
        "This is great but not very interesting. To do anything useful with data, we need to assign its value to a variable. \n",
        "In Python, we can assign a value to a variable, using the equals sign =. \n",
        "For example, we can track the weight of a patient who weighs 60 kilograms by assigning the value 60 to a variable weight_kg:"
      ],
      "metadata": {
        "id": "-PVsQZ0ca39I"
      }
    },
    {
      "cell_type": "code",
      "source": [
        "weight_kg = 60"
      ],
      "metadata": {
        "id": "EC-V32Yzah97"
      },
      "execution_count": null,
      "outputs": []
    },
    {
      "cell_type": "markdown",
      "source": [
        "From now on, whenever we use weight_kg, Python will substitute the value we assigned to it. A variable is a name for a value.\n"
      ],
      "metadata": {
        "id": "CC2SryyiywbS"
      }
    },
    {
      "cell_type": "markdown",
      "metadata": {
        "id": "rxeNuG-pJbP6"
      },
      "source": [
        "##  Rules for naming a variable in Python\n",
        "\n",
        "* Variables names must start with a letter or an underscore like _ product , product_\n",
        "\n",
        "\n",
        "* The remainder of your variable name may consist of letters, numbers and underscores\n",
        "\n",
        "\n",
        "* spacy1, pyThon,machine_learning are some valid variable names\n",
        "\n",
        "\n",
        "* Names are case sensitive.\n",
        "\n",
        "\n",
        "* case_sensitive, CASE_SENSITIVE, and Case_Sensitive are each a different variable.\n"
      ]
    },
    {
      "cell_type": "markdown",
      "source": [
        "\n",
        "This means that, for example:\n",
        "\n",
        "1. weight0 is a valid variable name, whereas 0weight is not\n",
        "2. weight and Weight are different variables"
      ],
      "metadata": {
        "id": "W3di6vZfbVDZ"
      }
    },
    {
      "cell_type": "code",
      "metadata": {
        "id": "40Ov9gtSJbP7",
        "colab": {
          "base_uri": "https://localhost:8080/",
          "height": 130
        },
        "outputId": "63502925-d40b-41b6-8ae2-3c41e290af43"
      },
      "source": [
        "1oNone = 4"
      ],
      "execution_count": null,
      "outputs": [
        {
          "output_type": "error",
          "ename": "SyntaxError",
          "evalue": "ignored",
          "traceback": [
            "\u001b[0;36m  File \u001b[0;32m\"<ipython-input-37-5af1d05f4ba0>\"\u001b[0;36m, line \u001b[0;32m1\u001b[0m\n\u001b[0;31m    1oNone = 4\u001b[0m\n\u001b[0m     ^\u001b[0m\n\u001b[0;31mSyntaxError\u001b[0m\u001b[0;31m:\u001b[0m invalid syntax\n"
          ]
        }
      ]
    },
    {
      "cell_type": "code",
      "source": [
        "onone_abc_1 = 5"
      ],
      "metadata": {
        "id": "nmCAisM70bup"
      },
      "execution_count": null,
      "outputs": []
    },
    {
      "cell_type": "code",
      "source": [
        "list = 5"
      ],
      "metadata": {
        "id": "0JHlRs2T0dIZ"
      },
      "execution_count": null,
      "outputs": []
    },
    {
      "cell_type": "markdown",
      "metadata": {
        "id": "3IqwZAzbJbP-"
      },
      "source": [
        "* Names cannot begin with a number. Python will throw an error when you try to do so \n",
        "\n",
        "\n",
        "* Names can not contain spaces, use _ instead\n",
        "\n",
        "\n",
        "* Names can not contain any of these symbols:\n",
        "\n",
        "      :'\",<>/?|\\!@#%^&*~-+\n",
        "      \n",
        "      \n",
        "* It is considered best practice that names are lowercase with underscores\n",
        "\n",
        "\n",
        "* Avoid using Python built-in keywords like `list`, `str` , `def` etc. We will talk more about such conventions later on"
      ]
    },
    {
      "cell_type": "markdown",
      "source": [
        "## **Types of data**"
      ],
      "metadata": {
        "id": "kayKf7qwbp4v"
      }
    },
    {
      "cell_type": "markdown",
      "source": [
        "Python knows various types of data. \n",
        "Three common ones are:\n",
        "\n",
        "1. integer numbers\n",
        "2. floating point numbers, and\n",
        "3. strings."
      ],
      "metadata": {
        "id": "bPI5WWPXcjb0"
      }
    },
    {
      "cell_type": "markdown",
      "source": [
        "In the example above, variable weight_kg has an integer value of 60. If we want to more precisely track the weight of our patient, we can use a floating point value by executing:"
      ],
      "metadata": {
        "id": "NHlWBZntdCtA"
      }
    },
    {
      "cell_type": "code",
      "source": [
        "weight_kg = 60.3"
      ],
      "metadata": {
        "id": "HUIR6UIEcwAp"
      },
      "execution_count": null,
      "outputs": []
    },
    {
      "cell_type": "markdown",
      "source": [
        "To create a string, we add single or double quotes around some text. To identify and track a patient throughout our study, we can assign each person a unique identifier by storing it in a string:"
      ],
      "metadata": {
        "id": "1zs61Ypgc4m6"
      }
    },
    {
      "cell_type": "code",
      "source": [
        "patient_id = '001'"
      ],
      "metadata": {
        "id": "0sBPbsmydSUw"
      },
      "execution_count": null,
      "outputs": []
    },
    {
      "cell_type": "markdown",
      "source": [
        "## **Using Variables in Python**\n",
        "\n",
        "Once we have data stored with variable names, we can make use of it in calculations. We may want to store our patient’s weight in pounds as well as kilograms:"
      ],
      "metadata": {
        "id": "WXPPrElrdXKz"
      }
    },
    {
      "cell_type": "code",
      "source": [
        "weight_lb = 2.2 * weight_kg"
      ],
      "metadata": {
        "id": "VJb0uTPTdkWL"
      },
      "execution_count": null,
      "outputs": []
    },
    {
      "cell_type": "markdown",
      "source": [
        "We might decide to add a prefix to our patient identifier:"
      ],
      "metadata": {
        "id": "2uUU8_pGdnaC"
      }
    },
    {
      "cell_type": "code",
      "source": [
        "patient_id = 'inflam_' + patient_id"
      ],
      "metadata": {
        "id": "_STjL2cRdy21"
      },
      "execution_count": null,
      "outputs": []
    },
    {
      "cell_type": "markdown",
      "source": [
        "## **Built-in Python functions**\n",
        "To carry out common tasks with data and variables in Python, the language provides us with several built-in functions. To display information to the screen, we use the print function:"
      ],
      "metadata": {
        "id": "17Bs0ON0d11F"
      }
    },
    {
      "cell_type": "code",
      "source": [
        "print(weight_lb)\n",
        "print(patient_id)"
      ],
      "metadata": {
        "colab": {
          "base_uri": "https://localhost:8080/"
        },
        "id": "qCYbYCb7eIr0",
        "outputId": "540870b4-8662-4b08-fb00-eb16ff0bf171"
      },
      "execution_count": null,
      "outputs": [
        {
          "output_type": "stream",
          "name": "stdout",
          "text": [
            "132.66\n",
            "inflam_001\n"
          ]
        }
      ]
    },
    {
      "cell_type": "markdown",
      "source": [
        "When we want to make use of a function, referred to as calling the function, we follow its name by **parentheses**. \n",
        "\n",
        "The parentheses are important: if you leave them off, the function doesn’t actually run! Sometimes you will include values or variables inside the parentheses for the function to use. \n",
        "In the case of print, we use the parentheses to tell the function what value we want to display. \n",
        "\n",
        "We can display multiple things at once using only one print call:"
      ],
      "metadata": {
        "id": "DnQUB7N5eNBx"
      }
    },
    {
      "cell_type": "code",
      "source": [
        "print(patient_id, 'weight in kilograms:', weight_kg)"
      ],
      "metadata": {
        "colab": {
          "base_uri": "https://localhost:8080/"
        },
        "id": "PfvQE2kjfKt_",
        "outputId": "562c5237-b377-4f4c-c36b-e7e464421060"
      },
      "execution_count": null,
      "outputs": [
        {
          "output_type": "stream",
          "name": "stdout",
          "text": [
            "inflam_001 weight in kilograms: 60.3\n"
          ]
        }
      ]
    },
    {
      "cell_type": "markdown",
      "source": [
        "We can also call a function inside of another function call. For example, Python has a built-in function called type that tells you a value’s data type:"
      ],
      "metadata": {
        "id": "lKk_bacDfOIF"
      }
    },
    {
      "cell_type": "code",
      "source": [
        "print(type(60.3))\n",
        "print(type(patient_id))"
      ],
      "metadata": {
        "colab": {
          "base_uri": "https://localhost:8080/"
        },
        "id": "fk5v3k6Zfdqt",
        "outputId": "4a8568ae-35f9-4443-a754-11abedc84b66"
      },
      "execution_count": null,
      "outputs": [
        {
          "output_type": "stream",
          "name": "stdout",
          "text": [
            "<class 'float'>\n",
            "<class 'str'>\n"
          ]
        }
      ]
    },
    {
      "cell_type": "markdown",
      "source": [
        "Moreover, we can do arithmetic with variables right inside the print function:\n",
        "\n"
      ],
      "metadata": {
        "id": "G1UnG_Xnfgxi"
      }
    },
    {
      "cell_type": "code",
      "source": [
        "print('weight in pounds:', 2.2 * weight_kg)"
      ],
      "metadata": {
        "colab": {
          "base_uri": "https://localhost:8080/"
        },
        "id": "-Rrha84Yfs3e",
        "outputId": "37dd6c14-e0bc-4572-a423-140201250e4e"
      },
      "execution_count": null,
      "outputs": [
        {
          "output_type": "stream",
          "name": "stdout",
          "text": [
            "weight in pounds: 132.66\n"
          ]
        }
      ]
    },
    {
      "cell_type": "markdown",
      "source": [
        "The above command, however, did not change the value of weight_kg:\n",
        "\n"
      ],
      "metadata": {
        "id": "3jgFewWUfxPk"
      }
    },
    {
      "cell_type": "code",
      "source": [
        "print(weight_kg)"
      ],
      "metadata": {
        "colab": {
          "base_uri": "https://localhost:8080/"
        },
        "id": "X5FpkG4if6qD",
        "outputId": "8956d077-2f1a-443f-eb41-f3cb26f732e8"
      },
      "execution_count": null,
      "outputs": [
        {
          "output_type": "stream",
          "name": "stdout",
          "text": [
            "60.3\n"
          ]
        }
      ]
    },
    {
      "cell_type": "markdown",
      "source": [
        "To change the value of the weight_kg variable, we have to assign weight_kg a new value using the equals = sign:"
      ],
      "metadata": {
        "id": "xnkcTIL9f7Ly"
      }
    },
    {
      "cell_type": "code",
      "source": [
        "weight_kg = 65.0\n",
        "print('weight in kilograms is now:', weight_kg)"
      ],
      "metadata": {
        "colab": {
          "base_uri": "https://localhost:8080/"
        },
        "id": "YM0bFBqNgCxf",
        "outputId": "1d573ee1-de70-4b75-ed97-fbd5e08e923d"
      },
      "execution_count": null,
      "outputs": [
        {
          "output_type": "stream",
          "name": "stdout",
          "text": [
            "weight in kilograms is now: 65.0\n"
          ]
        }
      ]
    },
    {
      "cell_type": "markdown",
      "source": [
        "Python allows you to assign multiple values to multiple variables in one line by separating the variables and values with commas. What does the following program print out?"
      ],
      "metadata": {
        "id": "cuwrJ7_vgIOK"
      }
    },
    {
      "cell_type": "code",
      "source": [
        "first, second = 'Grace', 'Hopper'\n",
        "third, fourth = second, first\n",
        "print(third, fourth)"
      ],
      "metadata": {
        "colab": {
          "base_uri": "https://localhost:8080/"
        },
        "id": "R6N1aNo1hTZU",
        "outputId": "cedd95f6-430a-43e4-e27f-fadb10bc93d4"
      },
      "execution_count": null,
      "outputs": [
        {
          "output_type": "stream",
          "name": "stdout",
          "text": [
            "Hopper Grace\n"
          ]
        }
      ]
    },
    {
      "cell_type": "markdown",
      "source": [
        "What are the data types of the following variables?"
      ],
      "metadata": {
        "id": "h9uZB6e7hXOk"
      }
    },
    {
      "cell_type": "code",
      "source": [
        "planet = 'Earth'\n",
        "apples = 5\n",
        "distance = 10.5"
      ],
      "metadata": {
        "id": "oIP5JN_ihmY3"
      },
      "execution_count": null,
      "outputs": []
    },
    {
      "cell_type": "code",
      "source": [
        "print(type(planet))\n",
        "print(type(apples))\n",
        "print(type(distance))"
      ],
      "metadata": {
        "colab": {
          "base_uri": "https://localhost:8080/"
        },
        "id": "F9oY23yTho8P",
        "outputId": "b6d5a3ce-4216-4c51-942d-70b9024fbd17"
      },
      "execution_count": null,
      "outputs": [
        {
          "output_type": "stream",
          "name": "stdout",
          "text": [
            "<class 'str'>\n",
            "<class 'int'>\n",
            "<class 'float'>\n"
          ]
        }
      ]
    },
    {
      "cell_type": "markdown",
      "source": [
        "## **Key Points**\n",
        "1. Basic data types in Python include integers, strings, floating-point numbers, and boolean.\n",
        "\n",
        "2. Use variable = value to assign a value to a variable in order to record it in memory.\n",
        "\n",
        "3. Variables are created on demand whenever a value is assigned to them.\n",
        "\n",
        "4. Use print(something) to display the value of something.\n",
        "\n",
        "5. Built-in functions are always available to use."
      ],
      "metadata": {
        "id": "tKlyLS9xhrZq"
      }
    },
    {
      "cell_type": "markdown",
      "source": [
        "## **Different data types we will encounter in Python**\n",
        "\n",
        "Numeric - Numeric variables take values which are numbers like 9, 3.14, 0, Inf\n",
        "\n",
        "String - String variables are used to store textual information\n",
        "\n",
        "Boolean - Boolean variables have two modes either True or False. \n",
        "\n",
        "Datetime - These variables are used to store date and time values such as 2020-08-01 12:23:54"
      ],
      "metadata": {
        "id": "vz-c3lr9h8xH"
      }
    },
    {
      "cell_type": "markdown",
      "source": [
        "## **Integers and Floats**"
      ],
      "metadata": {
        "id": "_pg46XlajeOa"
      }
    },
    {
      "cell_type": "markdown",
      "source": [
        "### **Basic Arithmetic**"
      ],
      "metadata": {
        "id": "5GJC5gH8kGVT"
      }
    },
    {
      "cell_type": "code",
      "source": [
        "# Addition\n",
        "2+1"
      ],
      "metadata": {
        "colab": {
          "base_uri": "https://localhost:8080/"
        },
        "id": "J5kEAEvgnjGm",
        "outputId": "7d881528-daae-45e5-b7b3-d90948f370a1"
      },
      "execution_count": null,
      "outputs": [
        {
          "output_type": "execute_result",
          "data": {
            "text/plain": [
              "3"
            ]
          },
          "metadata": {},
          "execution_count": 16
        }
      ]
    },
    {
      "cell_type": "code",
      "source": [
        "# Subtraction\n",
        "2-5"
      ],
      "metadata": {
        "colab": {
          "base_uri": "https://localhost:8080/"
        },
        "id": "u4aWV0P6npSy",
        "outputId": "cbba699f-a7a4-4dc5-9242-f991372aae37"
      },
      "execution_count": null,
      "outputs": [
        {
          "output_type": "execute_result",
          "data": {
            "text/plain": [
              "-3"
            ]
          },
          "metadata": {},
          "execution_count": 17
        }
      ]
    },
    {
      "cell_type": "code",
      "source": [
        "# Multiplication\n",
        "2*2"
      ],
      "metadata": {
        "colab": {
          "base_uri": "https://localhost:8080/"
        },
        "id": "VZdwRp-HnrmQ",
        "outputId": "871abe97-6970-4f79-8f13-6ff10d6af224"
      },
      "execution_count": null,
      "outputs": [
        {
          "output_type": "execute_result",
          "data": {
            "text/plain": [
              "4"
            ]
          },
          "metadata": {},
          "execution_count": 18
        }
      ]
    },
    {
      "cell_type": "code",
      "source": [
        "# Division\n",
        "3/2"
      ],
      "metadata": {
        "colab": {
          "base_uri": "https://localhost:8080/"
        },
        "id": "sfocgQiinuVj",
        "outputId": "3a037a8c-2a81-436c-cb17-42ed8b3c6fa0"
      },
      "execution_count": null,
      "outputs": [
        {
          "output_type": "execute_result",
          "data": {
            "text/plain": [
              "1.5"
            ]
          },
          "metadata": {},
          "execution_count": 19
        }
      ]
    },
    {
      "cell_type": "code",
      "source": [
        "# Floor Division\n",
        "7//2"
      ],
      "metadata": {
        "colab": {
          "base_uri": "https://localhost:8080/"
        },
        "id": "Makylq_Ln4ro",
        "outputId": "18c57b66-f28c-4179-d9fb-20aabadc3fb6"
      },
      "execution_count": null,
      "outputs": [
        {
          "output_type": "execute_result",
          "data": {
            "text/plain": [
              "3"
            ]
          },
          "metadata": {},
          "execution_count": 20
        }
      ]
    },
    {
      "cell_type": "code",
      "source": [
        "# Exponential\n",
        "2**5"
      ],
      "metadata": {
        "colab": {
          "base_uri": "https://localhost:8080/"
        },
        "id": "x29Agg5XoAEB",
        "outputId": "d48d368b-2a16-4a68-e7c3-5381b8cdfbc3"
      },
      "execution_count": null,
      "outputs": [
        {
          "output_type": "execute_result",
          "data": {
            "text/plain": [
              "32"
            ]
          },
          "metadata": {},
          "execution_count": 21
        }
      ]
    },
    {
      "cell_type": "code",
      "source": [
        "# Modulus\n",
        "5%6"
      ],
      "metadata": {
        "colab": {
          "base_uri": "https://localhost:8080/"
        },
        "id": "T6RefRxJoEf-",
        "outputId": "7d7c1e2d-63ac-4d6c-8f92-e5261c560126"
      },
      "execution_count": null,
      "outputs": [
        {
          "output_type": "execute_result",
          "data": {
            "text/plain": [
              "5"
            ]
          },
          "metadata": {},
          "execution_count": 22
        }
      ]
    },
    {
      "cell_type": "code",
      "source": [
        "# Order of Operations followed in Python\n",
        "2 + 10 * 10 + 3"
      ],
      "metadata": {
        "colab": {
          "base_uri": "https://localhost:8080/"
        },
        "id": "5d5Nrn87oIBU",
        "outputId": "71b2d84a-ad6e-4398-dae5-4ae3c0823ecc"
      },
      "execution_count": null,
      "outputs": [
        {
          "output_type": "execute_result",
          "data": {
            "text/plain": [
              "105"
            ]
          },
          "metadata": {},
          "execution_count": 23
        }
      ]
    },
    {
      "cell_type": "code",
      "source": [
        "2+ 10* (10+3)"
      ],
      "metadata": {
        "colab": {
          "base_uri": "https://localhost:8080/"
        },
        "id": "fZPu1VJNop4z",
        "outputId": "6d2baaf3-fa69-4d01-fe7f-cacc30c39ebf"
      },
      "execution_count": null,
      "outputs": [
        {
          "output_type": "execute_result",
          "data": {
            "text/plain": [
              "132"
            ]
          },
          "metadata": {},
          "execution_count": 24
        }
      ]
    },
    {
      "cell_type": "code",
      "source": [
        "# Scientific Notation for representing large numbers\n",
        "4E6"
      ],
      "metadata": {
        "colab": {
          "base_uri": "https://localhost:8080/"
        },
        "id": "pIK627Shos--",
        "outputId": "5bf6d300-72fa-4478-8cae-336a5aed85fb"
      },
      "execution_count": null,
      "outputs": [
        {
          "output_type": "execute_result",
          "data": {
            "text/plain": [
              "4000000.0"
            ]
          },
          "metadata": {},
          "execution_count": 25
        }
      ]
    },
    {
      "cell_type": "markdown",
      "metadata": {
        "id": "SAG3VykOJbPM"
      },
      "source": [
        "## Let's talk about numbers!\n",
        "\n",
        "* A lot many different types of numbers are supported in Python like integers (int type), real numbers (float type), complex numbers. We will mostly use integer and floating point numbers.\n",
        "\n",
        "\n",
        "* Integers are just whole numbers, positive or negative. For example: 2 and -2 are examples of integers.\n",
        "\n",
        "\n",
        "* Floating point numbers in Python are notable because they have a decimal point in them, or use an exponential (E) to define the number. For example 2.0 and -2.1 are examples of floating point numbers. \n",
        "\n",
        "\n",
        "* You can always control the number of digits coming after the decimal, hence they are called floating-point numbers"
      ]
    },
    {
      "cell_type": "markdown",
      "metadata": {
        "id": "mdf-bQxnJbPN"
      },
      "source": [
        "### The table below summarises the two numeric data types, Integers and Floats:\n",
        "<table>\n",
        "<tr>\n",
        "    <th>Examples</th> \n",
        "    <th>Number \"Type\"</th>\n",
        "</tr>\n",
        "\n",
        "<tr>\n",
        "    <td>1,2,-5,1000</td>\n",
        "    <td>Integers</td> \n",
        "</tr>\n",
        "\n",
        "<tr>\n",
        "    <td>1.2,-0.5,2e2,3E2</td> \n",
        "    <td>Floating-point numbers</td> \n",
        "</tr>\n",
        " </table>"
      ]
    },
    {
      "cell_type": "markdown",
      "source": [
        "### **Operations on variables**"
      ],
      "metadata": {
        "id": "DmglULzLrFyy"
      }
    },
    {
      "cell_type": "code",
      "source": [
        "x= 5\n",
        "y= 6.5"
      ],
      "metadata": {
        "id": "qvmb46a8rRJt"
      },
      "execution_count": null,
      "outputs": []
    },
    {
      "cell_type": "markdown",
      "source": [
        "Basic Arithmetic operations we can do on x and y. "
      ],
      "metadata": {
        "id": "tnxyMVLmrZXr"
      }
    },
    {
      "cell_type": "code",
      "source": [],
      "metadata": {
        "id": "tiQIR9NBrfVX"
      },
      "execution_count": null,
      "outputs": []
    },
    {
      "cell_type": "code",
      "metadata": {
        "id": "BNWS99YXJbPX",
        "colab": {
          "base_uri": "https://localhost:8080/"
        },
        "outputId": "4451e2bc-34db-4043-c7a7-405f95ed7441"
      },
      "source": [
        "# Addition\n",
        "z = x+y\n",
        "\n",
        "print(float(z))"
      ],
      "execution_count": null,
      "outputs": [
        {
          "output_type": "stream",
          "name": "stdout",
          "text": [
            "11.5\n"
          ]
        }
      ]
    },
    {
      "cell_type": "markdown",
      "source": [
        "A variable can be assigned different values and data types and it will store the last value assigned"
      ],
      "metadata": {
        "id": "XKdjbMwysKFU"
      }
    },
    {
      "cell_type": "code",
      "metadata": {
        "id": "GNgNOpjIJbPc",
        "colab": {
          "base_uri": "https://localhost:8080/"
        },
        "outputId": "49811cbb-65b5-46b6-88aa-c9cbf0a84138"
      },
      "source": [
        "# Subtraction\n",
        "z = x-y\n",
        "\n",
        "# Use the in-built print function to print the variable\n",
        "print(z)"
      ],
      "execution_count": null,
      "outputs": [
        {
          "output_type": "stream",
          "name": "stdout",
          "text": [
            "-1.5\n"
          ]
        }
      ]
    },
    {
      "cell_type": "code",
      "metadata": {
        "id": "RajV71HZJbPh",
        "colab": {
          "base_uri": "https://localhost:8080/"
        },
        "outputId": "8dab5449-0dd5-46b3-bcb0-c54652661ea0"
      },
      "source": [
        " # Find out the data type of variable z\n",
        "type(y) "
      ],
      "execution_count": null,
      "outputs": [
        {
          "output_type": "execute_result",
          "data": {
            "text/plain": [
              "float"
            ]
          },
          "metadata": {},
          "execution_count": 29
        }
      ]
    },
    {
      "cell_type": "code",
      "metadata": {
        "id": "WThvonSGJbPk",
        "colab": {
          "base_uri": "https://localhost:8080/"
        },
        "outputId": "30279d2f-b742-478c-9374-8eb9ff7b077b"
      },
      "source": [
        "# Multiplication\n",
        "z = x*y\n",
        "\n",
        "print(z)  # Print the variable z\n",
        "type(z)   # Get the data type of variable z"
      ],
      "execution_count": null,
      "outputs": [
        {
          "output_type": "stream",
          "name": "stdout",
          "text": [
            "32.5\n"
          ]
        },
        {
          "output_type": "execute_result",
          "data": {
            "text/plain": [
              "float"
            ]
          },
          "metadata": {},
          "execution_count": 30
        }
      ]
    },
    {
      "cell_type": "code",
      "metadata": {
        "id": "Jz0GA8TtJbPn",
        "colab": {
          "base_uri": "https://localhost:8080/"
        },
        "outputId": "4fcfcbcf-1d44-4a62-a34b-a57d00215800"
      },
      "source": [
        "# Division\n",
        "z = x/y\n",
        "\n",
        "print(z) # Print the variable z\n",
        "type(z)  # Get the data type of variable z"
      ],
      "execution_count": null,
      "outputs": [
        {
          "output_type": "stream",
          "name": "stdout",
          "text": [
            "0.7692307692307693\n"
          ]
        },
        {
          "output_type": "execute_result",
          "data": {
            "text/plain": [
              "float"
            ]
          },
          "metadata": {},
          "execution_count": 31
        }
      ]
    },
    {
      "cell_type": "code",
      "metadata": {
        "id": "UFPxHaByJbPp",
        "colab": {
          "base_uri": "https://localhost:8080/"
        },
        "outputId": "bc70f82c-3f80-448d-9e98-e3068c0dc39f"
      },
      "source": [
        "# Floor division\n",
        "z= x//y  #  Remember x=5, y=6.4\n",
        "print(z)"
      ],
      "execution_count": null,
      "outputs": [
        {
          "output_type": "stream",
          "name": "stdout",
          "text": [
            "0.0\n"
          ]
        }
      ]
    },
    {
      "cell_type": "markdown",
      "source": [
        "**Waittt! Shouldn't it be 0.75??**\n",
        "\n",
        "The reason we get this result is because we are using \"floor\" division. "
      ],
      "metadata": {
        "id": "9abD3T_ft5N5"
      }
    },
    {
      "cell_type": "code",
      "metadata": {
        "id": "mkmUH8cuJbPu",
        "colab": {
          "base_uri": "https://localhost:8080/"
        },
        "outputId": "04e1405f-3dad-42ec-fb2a-479f1ea2b739"
      },
      "source": [
        "# Modulus is denoted by % sign\n",
        "y=5\n",
        "x=3\n",
        "\n",
        "z = y%x      \n",
        "print(z)"
      ],
      "execution_count": null,
      "outputs": [
        {
          "output_type": "stream",
          "name": "stdout",
          "text": [
            "2\n"
          ]
        }
      ]
    },
    {
      "cell_type": "code",
      "metadata": {
        "id": "-gOV0xtCJbPz",
        "colab": {
          "base_uri": "https://localhost:8080/"
        },
        "outputId": "aebe3c6a-ea3a-4359-d8ab-32dc9969723f"
      },
      "source": [
        "# Using powers and exponents\n",
        "\n",
        "z = x**y    \n",
        "print(z)"
      ],
      "execution_count": null,
      "outputs": [
        {
          "output_type": "stream",
          "name": "stdout",
          "text": [
            "243\n"
          ]
        }
      ]
    },
    {
      "cell_type": "code",
      "metadata": {
        "id": "yjojlOq0JbP1",
        "colab": {
          "base_uri": "https://localhost:8080/"
        },
        "outputId": "8f9b3e85-15fe-4403-efee-8994392e04ac"
      },
      "source": [
        "# BODMAS nostalgia\n",
        "some_random_operation =(x+y)/y + (y-x)*x     \n",
        "\n",
        "print(some_random_operation)\n",
        "type(some_random_operation)"
      ],
      "execution_count": null,
      "outputs": [
        {
          "output_type": "stream",
          "name": "stdout",
          "text": [
            "7.6\n"
          ]
        },
        {
          "output_type": "execute_result",
          "data": {
            "text/plain": [
              "float"
            ]
          },
          "metadata": {},
          "execution_count": 35
        }
      ]
    },
    {
      "cell_type": "markdown",
      "metadata": {
        "id": "1y0i15DhJbP-"
      },
      "source": [
        "# <u>Boolean Variables </u>\n",
        "\n",
        "* A Boolean variable only takes two values either True or False. It is used for comparisons"
      ]
    },
    {
      "cell_type": "markdown",
      "metadata": {
        "id": "35lrqYk2JbP-"
      },
      "source": [
        "## Comparison Operators \n",
        "\n",
        "* These operators will allow us to compare variables and output a Boolean value (True or False). \n",
        "\n",
        "\n",
        "* First we'll present a table of the comparison operators and then work through some examples:\n",
        "\n",
        "\n",
        "* In the table below, a=3 and b=4.\n",
        "\n",
        "<table class=\"table table-bordered\">\n",
        "<tr>\n",
        "<th style=\"width:10%\">Operator</th><th style=\"width:45%\">Description</th><th>Example</th>\n",
        "</tr>\n",
        "<tr>\n",
        "<td>==</td>\n",
        "<td>If the values of two operands are equal, then the condition becomes true.</td>\n",
        "<td> (a == b) is not true.</td>\n",
        "</tr>\n",
        "<tr>\n",
        "<td>!=</td>\n",
        "<td>If values of two operands are not equal, then condition becomes true.</td>\n",
        "<td>(a != b) is true</td>\n",
        "</tr>\n",
        "<tr>\n",
        "<td>&gt;</td>\n",
        "<td>If the value of left operand is greater than the value of right operand, then condition becomes true.</td>\n",
        "<td> (a &gt; b) is not true.</td>\n",
        "</tr>\n",
        "<tr>\n",
        "<td>&lt;</td>\n",
        "<td>If the value of left operand is less than the value of right operand, then condition becomes true.</td>\n",
        "<td> (a &lt; b) is true.</td>\n",
        "</tr>\n",
        "<tr>\n",
        "<td>&gt;=</td>\n",
        "<td>If the value of left operand is greater than or equal to the value of right operand, then condition becomes true.</td>\n",
        "<td> (a &gt;= b) is not true. </td>\n",
        "</tr>\n",
        "<tr>\n",
        "<td>&lt;=</td>\n",
        "<td>If the value of left operand is less than or equal to the value of right operand, then condition becomes true.</td>\n",
        "<td> (a &lt;= b) is true. </td>\n",
        "</tr>\n",
        "</table>"
      ]
    },
    {
      "cell_type": "code",
      "source": [],
      "metadata": {
        "id": "F-LzRjWOz7Dr"
      },
      "execution_count": null,
      "outputs": []
    },
    {
      "cell_type": "markdown",
      "metadata": {
        "id": "k5qrpfOfJbP_"
      },
      "source": [
        "* Python  comes with Booleans (with predefined True and False displays that are basically just the integers 1 and 0). It also has a placeholder object called None. Let's walk through a few quick examples of Booleans (we will dive deeper into them later in this course)."
      ]
    },
    {
      "cell_type": "code",
      "metadata": {
        "id": "4HGbSLf_JbP_",
        "colab": {
          "base_uri": "https://localhost:8080/",
          "height": 34
        },
        "outputId": "7a89dfde-8359-4822-aa0d-0b58de94a3fb"
      },
      "source": [
        "# Set object to be a boolean\n",
        "boolean_variable = False\n",
        "type(boolean_variable)"
      ],
      "execution_count": null,
      "outputs": [
        {
          "output_type": "execute_result",
          "data": {
            "text/plain": [
              "bool"
            ]
          },
          "metadata": {
            "tags": []
          },
          "execution_count": 61
        }
      ]
    },
    {
      "cell_type": "code",
      "metadata": {
        "id": "KbXp_CYVJbQC",
        "colab": {
          "base_uri": "https://localhost:8080/",
          "height": 34
        },
        "outputId": "614846fb-8f03-4232-ca17-eaabfed9bd0c"
      },
      "source": [
        "#Show\n",
        "boolean_variable"
      ],
      "execution_count": null,
      "outputs": [
        {
          "output_type": "execute_result",
          "data": {
            "text/plain": [
              "False"
            ]
          },
          "metadata": {
            "tags": []
          },
          "execution_count": 62
        }
      ]
    },
    {
      "cell_type": "markdown",
      "metadata": {
        "id": "XTNlwY9rJbQG"
      },
      "source": [
        "### Equal"
      ]
    },
    {
      "cell_type": "code",
      "metadata": {
        "id": "B2HBAmBxJbQG",
        "colab": {
          "base_uri": "https://localhost:8080/",
          "height": 34
        },
        "outputId": "12512d25-266b-4d39-9d75-119095485443"
      },
      "source": [
        "2 == 3"
      ],
      "execution_count": null,
      "outputs": [
        {
          "output_type": "execute_result",
          "data": {
            "text/plain": [
              "False"
            ]
          },
          "metadata": {
            "tags": []
          },
          "execution_count": 64
        }
      ]
    },
    {
      "cell_type": "code",
      "metadata": {
        "id": "St2N7ToUJbQI",
        "outputId": "79f5b573-f7e7-44b4-bf37-eb4fa25b2449"
      },
      "source": [
        "2==0"
      ],
      "execution_count": null,
      "outputs": [
        {
          "output_type": "execute_result",
          "data": {
            "text/plain": [
              "False"
            ]
          },
          "metadata": {
            "tags": []
          },
          "execution_count": 2
        }
      ]
    },
    {
      "cell_type": "markdown",
      "metadata": {
        "id": "rffDn2hzJbQM"
      },
      "source": [
        "* <u> Note that <code>==</code> is a comparison operator, while <code>=</code> is an assignment operator. </u>"
      ]
    },
    {
      "cell_type": "markdown",
      "metadata": {
        "id": "zXobe57HJbQM"
      },
      "source": [
        "### Not equal"
      ]
    },
    {
      "cell_type": "code",
      "metadata": {
        "id": "-ITcsIujJbQM",
        "colab": {
          "base_uri": "https://localhost:8080/",
          "height": 34
        },
        "outputId": "0df844ca-2da7-4ec1-8f03-6a3cab84719c"
      },
      "source": [
        "2!=0"
      ],
      "execution_count": null,
      "outputs": [
        {
          "output_type": "execute_result",
          "data": {
            "text/plain": [
              "True"
            ]
          },
          "metadata": {
            "tags": []
          },
          "execution_count": 65
        }
      ]
    },
    {
      "cell_type": "code",
      "metadata": {
        "id": "MeLL5zC4JbQQ",
        "colab": {
          "base_uri": "https://localhost:8080/",
          "height": 34
        },
        "outputId": "55a8bf34-c3d8-4e19-d05a-9ead63c878a4"
      },
      "source": [
        "2!=2"
      ],
      "execution_count": null,
      "outputs": [
        {
          "output_type": "execute_result",
          "data": {
            "text/plain": [
              "False"
            ]
          },
          "metadata": {
            "tags": []
          },
          "execution_count": 66
        }
      ]
    },
    {
      "cell_type": "markdown",
      "metadata": {
        "id": "JCs_Qrt-JbQS"
      },
      "source": [
        "### Greater than"
      ]
    },
    {
      "cell_type": "code",
      "metadata": {
        "scrolled": true,
        "id": "JVbaxgIDJbQS",
        "colab": {
          "base_uri": "https://localhost:8080/",
          "height": 34
        },
        "outputId": "383b0e59-8697-43cb-adf0-94233e502c80"
      },
      "source": [
        "a=3\n",
        "b=2\n",
        "a> b"
      ],
      "execution_count": null,
      "outputs": [
        {
          "output_type": "execute_result",
          "data": {
            "text/plain": [
              "True"
            ]
          },
          "metadata": {
            "tags": []
          },
          "execution_count": 67
        }
      ]
    },
    {
      "cell_type": "code",
      "metadata": {
        "id": "PZ1zdvTTJbQU",
        "colab": {
          "base_uri": "https://localhost:8080/",
          "height": 34
        },
        "outputId": "b64d6e7e-58ef-4d0a-b927-3b7857dc8f41"
      },
      "source": [
        "a == 3"
      ],
      "execution_count": null,
      "outputs": [
        {
          "output_type": "execute_result",
          "data": {
            "text/plain": [
              "True"
            ]
          },
          "metadata": {
            "tags": []
          },
          "execution_count": 68
        }
      ]
    },
    {
      "cell_type": "code",
      "metadata": {
        "id": "C6ChRkkxJbQW",
        "colab": {
          "base_uri": "https://localhost:8080/",
          "height": 34
        },
        "outputId": "dcea2dcc-3767-4644-b9e9-873a24fe1502"
      },
      "source": [
        "b > 4"
      ],
      "execution_count": null,
      "outputs": [
        {
          "output_type": "execute_result",
          "data": {
            "text/plain": [
              "False"
            ]
          },
          "metadata": {
            "tags": []
          },
          "execution_count": 69
        }
      ]
    },
    {
      "cell_type": "markdown",
      "metadata": {
        "id": "HXhCSJvBJbQY"
      },
      "source": [
        "### Less than"
      ]
    },
    {
      "cell_type": "code",
      "metadata": {
        "id": "AffaxmdTJbQY",
        "colab": {
          "base_uri": "https://localhost:8080/",
          "height": 34
        },
        "outputId": "043b79ef-32ad-4b16-edea-d8a14a1d2d0f"
      },
      "source": [
        "10 < 45"
      ],
      "execution_count": null,
      "outputs": [
        {
          "output_type": "execute_result",
          "data": {
            "text/plain": [
              "True"
            ]
          },
          "metadata": {
            "tags": []
          },
          "execution_count": 70
        }
      ]
    },
    {
      "cell_type": "code",
      "metadata": {
        "id": "yX1roPJCJbQa",
        "colab": {
          "base_uri": "https://localhost:8080/",
          "height": 34
        },
        "outputId": "48be0f03-4c73-431c-ff09-42b18d9ce5fd"
      },
      "source": [
        "4 < 2"
      ],
      "execution_count": null,
      "outputs": [
        {
          "output_type": "execute_result",
          "data": {
            "text/plain": [
              "False"
            ]
          },
          "metadata": {
            "tags": []
          },
          "execution_count": 71
        }
      ]
    },
    {
      "cell_type": "markdown",
      "metadata": {
        "id": "HHQGVtfyJbQe"
      },
      "source": [
        "### Greater than or equal to"
      ]
    },
    {
      "cell_type": "code",
      "metadata": {
        "id": "_Qw-yrpRJbQe",
        "colab": {
          "base_uri": "https://localhost:8080/",
          "height": 34
        },
        "outputId": "a2d12230-f2a3-4d9b-fbdb-962a02a05d7b"
      },
      "source": [
        "3 >=2"
      ],
      "execution_count": null,
      "outputs": [
        {
          "output_type": "execute_result",
          "data": {
            "text/plain": [
              "True"
            ]
          },
          "metadata": {
            "tags": []
          },
          "execution_count": 72
        }
      ]
    },
    {
      "cell_type": "code",
      "metadata": {
        "id": "Cj3UpbKTJbQh",
        "colab": {
          "base_uri": "https://localhost:8080/",
          "height": 34
        },
        "outputId": "6c29f433-9153-44c0-c438-55c76ea6ce3a"
      },
      "source": [
        "4 >= 4"
      ],
      "execution_count": null,
      "outputs": [
        {
          "output_type": "execute_result",
          "data": {
            "text/plain": [
              "True"
            ]
          },
          "metadata": {
            "tags": []
          },
          "execution_count": 73
        }
      ]
    },
    {
      "cell_type": "markdown",
      "metadata": {
        "id": "9A0hrb1EJbQk"
      },
      "source": [
        "### Less than or equal to"
      ]
    },
    {
      "cell_type": "code",
      "metadata": {
        "id": "CCg2vqNOJbQl",
        "colab": {
          "base_uri": "https://localhost:8080/",
          "height": 34
        },
        "outputId": "61c13606-22c9-45f0-ff72-ab1d7e44201d"
      },
      "source": [
        "3 <= 0"
      ],
      "execution_count": null,
      "outputs": [
        {
          "output_type": "execute_result",
          "data": {
            "text/plain": [
              "False"
            ]
          },
          "metadata": {
            "tags": []
          },
          "execution_count": 74
        }
      ]
    },
    {
      "cell_type": "code",
      "metadata": {
        "id": "s9BkZBJDJbQm",
        "colab": {
          "base_uri": "https://localhost:8080/",
          "height": 34
        },
        "outputId": "d1eb734b-81a4-4c53-ff6b-66baef17283e"
      },
      "source": [
        "1 <= 2"
      ],
      "execution_count": null,
      "outputs": [
        {
          "output_type": "execute_result",
          "data": {
            "text/plain": [
              "True"
            ]
          },
          "metadata": {
            "tags": []
          },
          "execution_count": 75
        }
      ]
    },
    {
      "cell_type": "markdown",
      "metadata": {
        "id": "8ECk3jeWDelY"
      },
      "source": [
        "## <u>Problem 1</u>\n",
        "\n",
        "In a cricket tournament, based on the outcome of a particular match a team gets following points:\n",
        "* <code>wins</code> gets <code>3</code> points\n",
        "* <code>draws</code> gets <code>1</code> points\n",
        "* <code>losses</code> gets <code>0</code> points\n",
        "\n",
        "Team Aravali plays <code>8</code> matches in this tournament. It wins <code>4</code> matches, loses <code>3</code> matches and draws <code>1</code>. What is the total number of points gained by the Team Aravali?"
      ]
    },
    {
      "cell_type": "code",
      "metadata": {
        "id": "2cnTsWvODelc"
      },
      "source": [
        "# Calculate the total points gained by Team Aravali\n",
        "aravali_points = "
      ],
      "execution_count": null,
      "outputs": []
    },
    {
      "cell_type": "markdown",
      "metadata": {
        "id": "tNAI2AHRDel6"
      },
      "source": [
        "## <u> Problem 2 </u>\n",
        "\n",
        "A bag contains <code>45</code> apples, <code>65</code> oranges and <code>30</code> bananas. Find the percentage of each type of food items in the bag."
      ]
    },
    {
      "cell_type": "code",
      "metadata": {
        "id": "XJ9Rq4P3Del7"
      },
      "source": [
        "# Calculate the percentage of apples and print the variable\n",
        "\n"
      ],
      "execution_count": null,
      "outputs": []
    }
  ]
}